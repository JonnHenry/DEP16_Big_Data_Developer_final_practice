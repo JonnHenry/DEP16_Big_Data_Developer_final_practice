{
 "cells": [
  {
   "cell_type": "code",
   "execution_count": 1,
   "id": "21274236-16c2-42d4-911d-11d763f2306d",
   "metadata": {
    "tags": []
   },
   "outputs": [],
   "source": [
    "import findspark\n",
    "findspark.init()\n",
    "\n",
    "import pandas as pd\n",
    "import pyspark"
   ]
  },
  {
   "cell_type": "code",
   "execution_count": 2,
   "id": "b33071d3-9952-4a76-bfd8-e2ad63cef8a9",
   "metadata": {
    "tags": []
   },
   "outputs": [],
   "source": [
    "from pyspark.sql import SparkSession\n",
    "from pyspark.sql.functions import *\n",
    "from pyspark.sql.types import StringType"
   ]
  },
  {
   "cell_type": "markdown",
   "id": "04e4377c-ed6c-42c4-a1cd-63ab1e6776eb",
   "metadata": {},
   "source": [
    "### Crear la sesión de Spark "
   ]
  },
  {
   "cell_type": "code",
   "execution_count": 3,
   "id": "e0ace96f-0c0c-4825-8b42-8d3f7643c53e",
   "metadata": {
    "tags": []
   },
   "outputs": [],
   "source": [
    "#Creamos un objeto de spark session\n",
    "spark = SparkSession.builder.appName(\"pysparkdf\").getOrCreate()"
   ]
  },
  {
   "cell_type": "markdown",
   "id": "c6a8627a-75e7-4e1d-b62c-bd690c539310",
   "metadata": {},
   "source": [
    "### Crear el DataFrame"
   ]
  },
  {
   "cell_type": "markdown",
   "id": "19416295-a77f-4745-9777-092c755461c5",
   "metadata": {},
   "source": [
    "### 1. Crear un DataFrame con datos de personas, que incluya nombre, edad y ciudad de residencia.\n",
    "\n",
    "Utilizar el siguiente esquema:\\\r\n",
    "data = [(\"Alice\", 25, \"New York\"),\r\n",
    "        (\"Bob\", 30, \"Los Angeles\"),\r\n",
    "        (\"Charlie\", 22, \"Chicago\")]"
   ]
  },
  {
   "cell_type": "code",
   "execution_count": 4,
   "id": "b8d86e73-9bc7-4b7c-b975-ca16c45e06bc",
   "metadata": {},
   "outputs": [],
   "source": [
    "data = [(\"Alice\", 25, \"New York\"),\n",
    "        (\"Bob\", 30, \"Los Angeles\"),\n",
    "        (\"Charlie\", 22, \"Chicago\"),\n",
    "        (\"Tarra\",78,\"Dixon\"),\n",
    "        (\"Rhett\",39,\"New York\"),\n",
    "        (\"Morie\",94,\"New York\"),\n",
    "        (\"Linus\",15,\"New York\"),\n",
    "        (\"Ringo\",52,\"New York\"),\n",
    "        (\"Sybille\",98,\"New York\"),\n",
    "        (\"Hedvig\",25,\"New York\"),\n",
    "        (\"Ara\",44,\"New York\"),\n",
    "        (\"Cos\",58,\"Los Angeles\"),\n",
    "        (\"Jillian\",90,\"Chicago\"),\n",
    "        (\"Lulita\",68,\"Los Angeles\"),\n",
    "        (\"Sherman\",62,\"Los Angeles\"),\n",
    "        (\"Danyelle\",70,\"Dixon\"),\n",
    "        (\"Charlie\",59,\"Chicago\"),\n",
    "        (\"Vanessa\",31,\"Los Angeles\"),\n",
    "        (\"Syman\",51,\"Los Angeles\"),\n",
    "        (\"Avram\",90,\"Chicago\"),\n",
    "        (\"Stephani\",46,\"Dixon\"),\n",
    "        (\"Dot\",33,\"Chicago\"),\n",
    "        (\"Bob\",60,\"Chive\"),\n",
    "        (\"Bob\",39,\"Chicago\"),\n",
    "        (\"Bob\",94,\"Los Angeles\"),\n",
    "        (\"Katha\",22,\"Nevada\"),\n",
    "        (\"Gasparo\",37,\"Los Angeles\"), \n",
    "        (\"Agustin\",68,\"Los Angeles\"),\n",
    "        (\"Desiri\",50,\"Dixon\"),\n",
    "        (\"Leroy\",92,\"Chicago\"),\n",
    "        (\"Elvina\",65,\"New York\"),\n",
    "        (\"Tatiania\",24,\"New York\"),\n",
    "        (\"Livy\",45,\"New York\"),\n",
    "        (\"Shanie\",33,\"New York\"),\n",
    "        (\"Adolpho\",54,\"New York\"),\n",
    "        (\"Suzette\",77,\"New York\"),\n",
    "        (\"Charlie\",70,\"Los Angeles\"),\n",
    "        (\"Keslie\",81,\"Los Angeles\"),\n",
    "        (\"Markus\",62,\"Los Angeles\"),\n",
    "        (\"Peri\",60,\"Dixon\"),\n",
    "        (\"Philis\",85,\"Chicago\"), \n",
    "        (\"Bob\",89,\"Chicago\"),\n",
    "        (\"Anestassia\",19,\"Chicago\"),\n",
    "        (\"Kendrick\",70,\"Chicago\"),\n",
    "        (\"Ileana\",95,\"Dixon\"),\n",
    "        (\"Francklyn\",76,\"Westport\"),\n",
    "        (\"Nickola\",15,\"Dixon\"),\n",
    "        (\"Vanessa\",70,\"Algoma\"),\n",
    "        (\"Kristal\",54,\"New York\"),\n",
    "        (\"Anestassia\",30,\"New York\"),\n",
    "        (\"Charlie\",18,\"New York\"),\n",
    "        (\"Emelina\",27,\"New York\"),\n",
    "        (\"Ibrahim\",15,\"New York\"),\n",
    "        (\"Vanessa\",21,\"New York\"),\n",
    "        (\"Lainey\",30,\"Ronald Regan\"), \n",
    "        (\"Dehlia\",74,\"Dixon\"),\n",
    "        (\"Timothy\",12,\"Chicago\"),\n",
    "        (\"Humfried\",13,\"Chicago\"),\n",
    "        (\"Saxe\",18,\"Arrowood\"),\n",
    "        (\"Shirline\",23,\"Lillian\"),\n",
    "        (\"Vanessa\",77,\"Dixon\"),\n",
    "        (\"Fawne\",39,\"Chicago\"),\n",
    "        (\"Kellen\",68,\"Nevada\"),\n",
    "        (\"Gabriela\",35,\"Chicago\"),\n",
    "        (\"Edee\",72,\"New York\"),\n",
    "        (\"Vanessa\",97,\"New York\"),\n",
    "        (\"Vikky\",44,\"New York\"),\n",
    "        (\"Bob\",95,\"New York\"), \n",
    "        (\"Nananne\",77,\"Los Angeles\"),\n",
    "        (\"Willabella\",38,\"Weeping Birch\"), \n",
    "        (\"Cosetta\",27,\"Chicago\"),\n",
    "        (\"Rena\",72,\"New York\"),\n",
    "        (\"Charlie\",26,\"New York\"),\n",
    "        (\"Charlie\",51,\"New York\"),\n",
    "        (\"Vanessa\",65,\"Springs\"),\n",
    "        (\"Lizbeth\",68,\"Weeping Birch\"), \n",
    "        (\"Charita\",28,\"Springs\"),\n",
    "        (\"Kathryne\",60,\"Los Angeles\"),\n",
    "        (\"Morie\",10,\"Los Angeles\"), \n",
    "        (\"Finn\",79,\"Los Angeles\"),\n",
    "        (\"Darryl\",74,\"Los Angeles\"),\n",
    "        (\"Vanessa\",60,\"Chicago\"),\n",
    "        (\"Amie\",10,\"Dixon\"),\n",
    "        (\"Scotty\",72,\"Wayridge\"),\n",
    "        (\"Charisse\",53,\"Pearson\"),\n",
    "        (\"Francesca\",54,\"Dixon\"),\n",
    "        (\"Zebulon\",55,\"Shelley\"),\n",
    "        (\"Bob\",83,\"Chicago\"), \n",
    "        (\"Caro\",96,\"Chicago\"),\n",
    "        (\"Hayden\",13,\"Chicago\"),\n",
    "        (\"Mavis\",67,\"Chicago\"),\n",
    "        (\"Charlie\",10,\"Los Angeles\"), \n",
    "        (\"Cesya\",51,\"Los Angeles\"),\n",
    "        (\"Cristobal\",40,\"Chicago\"),\n",
    "        (\"Vanessa\",14,\"Chicago\"),\n",
    "        (\"Matilda\",50,\"Los Angeles\"),\n",
    "        (\"Hasty\",36,\"New York\"),\n",
    "        (\"Nerte\",13,\"New York\"),\n",
    "        (\"Ashien\",17,\"Chicago\"),\n",
    "        (\"Jenn\",31,\"Los Angeles\"),\n",
    "        (\"Vanessa\",94,\"Los Angeles\"),\n",
    "        (\"Ashlee\",92,\"Los Angeles\"),\n",
    "        (\"Bob\",59,\"New York\")]"
   ]
  },
  {
   "cell_type": "code",
   "execution_count": 5,
   "id": "c7017a4b-aa3f-45d2-aa2d-736c9c2ebd25",
   "metadata": {},
   "outputs": [
    {
     "name": "stdout",
     "output_type": "stream",
     "text": [
      "+--------+----+-----------+\n",
      "|  Nombre|Edad|     Ciudad|\n",
      "+--------+----+-----------+\n",
      "|   Alice|  25|   New York|\n",
      "|     Bob|  30|Los Angeles|\n",
      "| Charlie|  22|    Chicago|\n",
      "|   Tarra|  78|      Dixon|\n",
      "|   Rhett|  39|   New York|\n",
      "|   Morie|  94|   New York|\n",
      "|   Linus|  15|   New York|\n",
      "|   Ringo|  52|   New York|\n",
      "| Sybille|  98|   New York|\n",
      "|  Hedvig|  25|   New York|\n",
      "|     Ara|  44|   New York|\n",
      "|     Cos|  58|Los Angeles|\n",
      "| Jillian|  90|    Chicago|\n",
      "|  Lulita|  68|Los Angeles|\n",
      "| Sherman|  62|Los Angeles|\n",
      "|Danyelle|  70|      Dixon|\n",
      "| Charlie|  59|    Chicago|\n",
      "| Vanessa|  31|Los Angeles|\n",
      "|   Syman|  51|Los Angeles|\n",
      "|   Avram|  90|    Chicago|\n",
      "+--------+----+-----------+\n",
      "only showing top 20 rows\n",
      "\n"
     ]
    }
   ],
   "source": [
    "df = spark.createDataFrame(data, [\"Nombre\", \"Edad\", \"Ciudad\"])\n",
    "df.show()"
   ]
  },
  {
   "cell_type": "markdown",
   "id": "351cf655-0253-4b83-aea4-9302e0bccf61",
   "metadata": {},
   "source": [
    "### 2. Mostrar solo los nombres de las personas del DataFrame."
   ]
  },
  {
   "cell_type": "code",
   "execution_count": 6,
   "id": "2ebe94d3-8d0e-4381-b251-e10cbd4caf09",
   "metadata": {},
   "outputs": [
    {
     "name": "stdout",
     "output_type": "stream",
     "text": [
      "+--------+\n",
      "|  Nombre|\n",
      "+--------+\n",
      "|   Alice|\n",
      "|     Bob|\n",
      "| Charlie|\n",
      "|   Tarra|\n",
      "|   Rhett|\n",
      "|   Morie|\n",
      "|   Linus|\n",
      "|   Ringo|\n",
      "| Sybille|\n",
      "|  Hedvig|\n",
      "|     Ara|\n",
      "|     Cos|\n",
      "| Jillian|\n",
      "|  Lulita|\n",
      "| Sherman|\n",
      "|Danyelle|\n",
      "| Charlie|\n",
      "| Vanessa|\n",
      "|   Syman|\n",
      "|   Avram|\n",
      "+--------+\n",
      "only showing top 20 rows\n",
      "\n"
     ]
    }
   ],
   "source": [
    "df.select(\"Nombre\").show()"
   ]
  },
  {
   "cell_type": "markdown",
   "id": "caa6c81f-d1ff-4d00-a340-567c56378d60",
   "metadata": {},
   "source": [
    "# 3. Filtrar personas cuya edad sea mayor o igual a 25."
   ]
  },
  {
   "cell_type": "code",
   "execution_count": 7,
   "id": "a77cda8d-daec-41b1-b75e-acff34104c8a",
   "metadata": {},
   "outputs": [
    {
     "name": "stdout",
     "output_type": "stream",
     "text": [
      "+--------+----+-----------+\n",
      "|  Nombre|Edad|     Ciudad|\n",
      "+--------+----+-----------+\n",
      "|   Alice|  25|   New York|\n",
      "|     Bob|  30|Los Angeles|\n",
      "|   Tarra|  78|      Dixon|\n",
      "|   Rhett|  39|   New York|\n",
      "|   Morie|  94|   New York|\n",
      "|   Ringo|  52|   New York|\n",
      "| Sybille|  98|   New York|\n",
      "|  Hedvig|  25|   New York|\n",
      "|     Ara|  44|   New York|\n",
      "|     Cos|  58|Los Angeles|\n",
      "| Jillian|  90|    Chicago|\n",
      "|  Lulita|  68|Los Angeles|\n",
      "| Sherman|  62|Los Angeles|\n",
      "|Danyelle|  70|      Dixon|\n",
      "| Charlie|  59|    Chicago|\n",
      "| Vanessa|  31|Los Angeles|\n",
      "|   Syman|  51|Los Angeles|\n",
      "|   Avram|  90|    Chicago|\n",
      "|Stephani|  46|      Dixon|\n",
      "|     Dot|  33|    Chicago|\n",
      "+--------+----+-----------+\n",
      "only showing top 20 rows\n",
      "\n"
     ]
    }
   ],
   "source": [
    "df.filter(df.Edad >= 25).show()"
   ]
  },
  {
   "cell_type": "markdown",
   "id": "653b7fa5-ad09-41e1-bbf2-84e96d2659c4",
   "metadata": {},
   "source": [
    "# 4. Agregar una nueva columna \"Pais\" con un valor constante para todas las filas."
   ]
  },
  {
   "cell_type": "code",
   "execution_count": 8,
   "id": "13a06e86-76e4-49b9-a338-d2af5b073843",
   "metadata": {},
   "outputs": [
    {
     "name": "stdout",
     "output_type": "stream",
     "text": [
      "+--------+----+-----------+--------------+\n",
      "|  Nombre|Edad|     Ciudad|          Pais|\n",
      "+--------+----+-----------+--------------+\n",
      "|   Alice|  25|   New York|Estados Unidos|\n",
      "|     Bob|  30|Los Angeles|Estados Unidos|\n",
      "| Charlie|  22|    Chicago|Estados Unidos|\n",
      "|   Tarra|  78|      Dixon|Estados Unidos|\n",
      "|   Rhett|  39|   New York|Estados Unidos|\n",
      "|   Morie|  94|   New York|Estados Unidos|\n",
      "|   Linus|  15|   New York|Estados Unidos|\n",
      "|   Ringo|  52|   New York|Estados Unidos|\n",
      "| Sybille|  98|   New York|Estados Unidos|\n",
      "|  Hedvig|  25|   New York|Estados Unidos|\n",
      "|     Ara|  44|   New York|Estados Unidos|\n",
      "|     Cos|  58|Los Angeles|Estados Unidos|\n",
      "| Jillian|  90|    Chicago|Estados Unidos|\n",
      "|  Lulita|  68|Los Angeles|Estados Unidos|\n",
      "| Sherman|  62|Los Angeles|Estados Unidos|\n",
      "|Danyelle|  70|      Dixon|Estados Unidos|\n",
      "| Charlie|  59|    Chicago|Estados Unidos|\n",
      "| Vanessa|  31|Los Angeles|Estados Unidos|\n",
      "|   Syman|  51|Los Angeles|Estados Unidos|\n",
      "|   Avram|  90|    Chicago|Estados Unidos|\n",
      "+--------+----+-----------+--------------+\n",
      "only showing top 20 rows\n",
      "\n"
     ]
    }
   ],
   "source": [
    "data = df.withColumn('Pais', lit('Estados Unidos'))\n",
    "data.show()"
   ]
  },
  {
   "cell_type": "markdown",
   "id": "8882c0a8-3754-495a-9532-e795309466b9",
   "metadata": {},
   "source": [
    "# 5. Calcular el promedio de edad de todas las personas."
   ]
  },
  {
   "cell_type": "code",
   "execution_count": 9,
   "id": "53271d81-8867-46da-9083-ebf6cc64bf27",
   "metadata": {},
   "outputs": [
    {
     "name": "stdout",
     "output_type": "stream",
     "text": [
      "+-----------------+\n",
      "|        avg(Edad)|\n",
      "+-----------------+\n",
      "|51.83495145631068|\n",
      "+-----------------+\n",
      "\n"
     ]
    }
   ],
   "source": [
    "data.select(mean(\"Edad\")).show()"
   ]
  },
  {
   "cell_type": "markdown",
   "id": "f3810c4d-5bab-488a-b1f6-6a265a224934",
   "metadata": {},
   "source": [
    "# 6. Ordenar el DataFrame por edad en orden descendente."
   ]
  },
  {
   "cell_type": "code",
   "execution_count": 10,
   "id": "b150afea-434d-496a-8d31-3ebc46710ae2",
   "metadata": {},
   "outputs": [
    {
     "name": "stdout",
     "output_type": "stream",
     "text": [
      "+----------+----+-----------+--------------+\n",
      "|    Nombre|Edad|     Ciudad|          Pais|\n",
      "+----------+----+-----------+--------------+\n",
      "|      Amie|  10|      Dixon|Estados Unidos|\n",
      "|     Morie|  10|Los Angeles|Estados Unidos|\n",
      "|   Charlie|  10|Los Angeles|Estados Unidos|\n",
      "|   Timothy|  12|    Chicago|Estados Unidos|\n",
      "|    Hayden|  13|    Chicago|Estados Unidos|\n",
      "|  Humfried|  13|    Chicago|Estados Unidos|\n",
      "|     Nerte|  13|   New York|Estados Unidos|\n",
      "|   Vanessa|  14|    Chicago|Estados Unidos|\n",
      "|   Nickola|  15|      Dixon|Estados Unidos|\n",
      "|     Linus|  15|   New York|Estados Unidos|\n",
      "|   Ibrahim|  15|   New York|Estados Unidos|\n",
      "|    Ashien|  17|    Chicago|Estados Unidos|\n",
      "|   Charlie|  18|   New York|Estados Unidos|\n",
      "|      Saxe|  18|   Arrowood|Estados Unidos|\n",
      "|Anestassia|  19|    Chicago|Estados Unidos|\n",
      "|   Vanessa|  21|   New York|Estados Unidos|\n",
      "|     Katha|  22|     Nevada|Estados Unidos|\n",
      "|   Charlie|  22|    Chicago|Estados Unidos|\n",
      "|  Shirline|  23|    Lillian|Estados Unidos|\n",
      "|  Tatiania|  24|   New York|Estados Unidos|\n",
      "+----------+----+-----------+--------------+\n",
      "only showing top 20 rows\n",
      "\n"
     ]
    }
   ],
   "source": [
    "data = data.sort(\"Edad\")\n",
    "data.show()"
   ]
  },
  {
   "cell_type": "markdown",
   "id": "ef1d0973-917a-4ab1-a03c-c1d6111a4095",
   "metadata": {},
   "source": [
    "# 7. Agrupar por ciudad y calcular la cantidad de personas en cada ciudad."
   ]
  },
  {
   "cell_type": "code",
   "execution_count": 11,
   "id": "c8ab02c6-4549-404f-8bf8-989bac6af0e1",
   "metadata": {},
   "outputs": [
    {
     "name": "stdout",
     "output_type": "stream",
     "text": [
      "+-------------+-----+\n",
      "|Ciudad       |count|\n",
      "+-------------+-----+\n",
      "|Los Angeles  |23   |\n",
      "|Chicago      |24   |\n",
      "|Dixon        |11   |\n",
      "|New York     |30   |\n",
      "|Chive        |1    |\n",
      "|Nevada       |2    |\n",
      "|Algoma       |1    |\n",
      "|Westport     |1    |\n",
      "|Ronald Regan |1    |\n",
      "|Arrowood     |1    |\n",
      "|Lillian      |1    |\n",
      "|Weeping Birch|2    |\n",
      "|Springs      |2    |\n",
      "|Shelley      |1    |\n",
      "|Pearson      |1    |\n",
      "|Wayridge     |1    |\n",
      "+-------------+-----+\n",
      "\n"
     ]
    }
   ],
   "source": [
    "data.groupBy(\"Ciudad\").count().show(truncate=False)"
   ]
  },
  {
   "cell_type": "markdown",
   "id": "b7fe5129-a6a7-4ac1-b70e-f4f32231f062",
   "metadata": {},
   "source": [
    "# 8. Renombrar la columna \"Nombre\" a \"NombreCompleto\"."
   ]
  },
  {
   "cell_type": "code",
   "execution_count": 12,
   "id": "663ecd77-0607-439b-8a18-7bc2ea1a3b60",
   "metadata": {},
   "outputs": [
    {
     "name": "stdout",
     "output_type": "stream",
     "text": [
      "+--------------+----+-----------+--------------+\n",
      "|NombreCompleto|Edad|     Ciudad|          Pais|\n",
      "+--------------+----+-----------+--------------+\n",
      "|         Morie|  10|Los Angeles|Estados Unidos|\n",
      "|       Charlie|  10|Los Angeles|Estados Unidos|\n",
      "|          Amie|  10|      Dixon|Estados Unidos|\n",
      "|       Timothy|  12|    Chicago|Estados Unidos|\n",
      "|        Hayden|  13|    Chicago|Estados Unidos|\n",
      "|      Humfried|  13|    Chicago|Estados Unidos|\n",
      "|         Nerte|  13|   New York|Estados Unidos|\n",
      "|       Vanessa|  14|    Chicago|Estados Unidos|\n",
      "|       Ibrahim|  15|   New York|Estados Unidos|\n",
      "|         Linus|  15|   New York|Estados Unidos|\n",
      "|       Nickola|  15|      Dixon|Estados Unidos|\n",
      "|        Ashien|  17|    Chicago|Estados Unidos|\n",
      "|          Saxe|  18|   Arrowood|Estados Unidos|\n",
      "|       Charlie|  18|   New York|Estados Unidos|\n",
      "|    Anestassia|  19|    Chicago|Estados Unidos|\n",
      "|       Vanessa|  21|   New York|Estados Unidos|\n",
      "|         Katha|  22|     Nevada|Estados Unidos|\n",
      "|       Charlie|  22|    Chicago|Estados Unidos|\n",
      "|      Shirline|  23|    Lillian|Estados Unidos|\n",
      "|      Tatiania|  24|   New York|Estados Unidos|\n",
      "+--------------+----+-----------+--------------+\n",
      "only showing top 20 rows\n",
      "\n"
     ]
    }
   ],
   "source": [
    "datacolrenamed = data.withColumnRenamed(\"Nombre\",\"NombreCompleto\")\n",
    "datacolrenamed.show()"
   ]
  },
  {
   "cell_type": "markdown",
   "id": "3d89f1e4-8bec-46dc-afcb-dfd4a1d345cc",
   "metadata": {},
   "source": [
    "# 9. Eliminar la columna \"Edad\" del DataFrame."
   ]
  },
  {
   "cell_type": "code",
   "execution_count": 13,
   "id": "de73b9cf-d434-4409-9c79-b3f314e5a20d",
   "metadata": {},
   "outputs": [
    {
     "name": "stdout",
     "output_type": "stream",
     "text": [
      "+----------+-----------+--------------+\n",
      "|    Nombre|     Ciudad|          Pais|\n",
      "+----------+-----------+--------------+\n",
      "|     Morie|Los Angeles|Estados Unidos|\n",
      "|      Amie|      Dixon|Estados Unidos|\n",
      "|   Charlie|Los Angeles|Estados Unidos|\n",
      "|   Timothy|    Chicago|Estados Unidos|\n",
      "|    Hayden|    Chicago|Estados Unidos|\n",
      "|  Humfried|    Chicago|Estados Unidos|\n",
      "|     Nerte|   New York|Estados Unidos|\n",
      "|   Vanessa|    Chicago|Estados Unidos|\n",
      "|   Nickola|      Dixon|Estados Unidos|\n",
      "|   Ibrahim|   New York|Estados Unidos|\n",
      "|     Linus|   New York|Estados Unidos|\n",
      "|    Ashien|    Chicago|Estados Unidos|\n",
      "|   Charlie|   New York|Estados Unidos|\n",
      "|      Saxe|   Arrowood|Estados Unidos|\n",
      "|Anestassia|    Chicago|Estados Unidos|\n",
      "|   Vanessa|   New York|Estados Unidos|\n",
      "|   Charlie|    Chicago|Estados Unidos|\n",
      "|     Katha|     Nevada|Estados Unidos|\n",
      "|  Shirline|    Lillian|Estados Unidos|\n",
      "|  Tatiania|   New York|Estados Unidos|\n",
      "+----------+-----------+--------------+\n",
      "only showing top 20 rows\n",
      "\n"
     ]
    }
   ],
   "source": [
    "newdf = data.drop(\"Edad\")\n",
    "newdf.show()"
   ]
  },
  {
   "cell_type": "markdown",
   "id": "5fa5d486-b36a-4c97-bf1a-cc2b8ba9d6ad",
   "metadata": {},
   "source": [
    "# 10. Realizar una consulta SQL en el DataFrame para seleccionar personas mayores de 20 años."
   ]
  },
  {
   "cell_type": "code",
   "execution_count": 14,
   "id": "ee381b50-7cde-4323-be70-1befaeb24e9b",
   "metadata": {},
   "outputs": [
    {
     "name": "stdout",
     "output_type": "stream",
     "text": [
      "+----------+----+------------+--------------+\n",
      "|    Nombre|Edad|      Ciudad|          Pais|\n",
      "+----------+----+------------+--------------+\n",
      "|   Vanessa|  21|    New York|Estados Unidos|\n",
      "|     Katha|  22|      Nevada|Estados Unidos|\n",
      "|   Charlie|  22|     Chicago|Estados Unidos|\n",
      "|  Shirline|  23|     Lillian|Estados Unidos|\n",
      "|  Tatiania|  24|    New York|Estados Unidos|\n",
      "|    Hedvig|  25|    New York|Estados Unidos|\n",
      "|     Alice|  25|    New York|Estados Unidos|\n",
      "|   Charlie|  26|    New York|Estados Unidos|\n",
      "|   Emelina|  27|    New York|Estados Unidos|\n",
      "|   Cosetta|  27|     Chicago|Estados Unidos|\n",
      "|   Charita|  28|     Springs|Estados Unidos|\n",
      "|Anestassia|  30|    New York|Estados Unidos|\n",
      "|       Bob|  30| Los Angeles|Estados Unidos|\n",
      "|    Lainey|  30|Ronald Regan|Estados Unidos|\n",
      "|   Vanessa|  31| Los Angeles|Estados Unidos|\n",
      "|      Jenn|  31| Los Angeles|Estados Unidos|\n",
      "|    Shanie|  33|    New York|Estados Unidos|\n",
      "|       Dot|  33|     Chicago|Estados Unidos|\n",
      "|  Gabriela|  35|     Chicago|Estados Unidos|\n",
      "|     Hasty|  36|    New York|Estados Unidos|\n",
      "+----------+----+------------+--------------+\n",
      "only showing top 20 rows\n",
      "\n"
     ]
    }
   ],
   "source": [
    "# Register DataFrame as users\n",
    "data.createOrReplaceTempView(\"users\")\n",
    "\n",
    "# Execute SQL-Like query.\n",
    "spark.sql(\"select * from users s where s.Edad > 20\").show()"
   ]
  },
  {
   "cell_type": "markdown",
   "id": "7ab5e748-c3f2-46d2-9123-c54be45516a8",
   "metadata": {},
   "source": [
    "# 11. Calcular la suma total de todas las edades."
   ]
  },
  {
   "cell_type": "code",
   "execution_count": 15,
   "id": "9ef92d5c-a4f0-42de-9043-fdc8ff54db87",
   "metadata": {},
   "outputs": [
    {
     "name": "stdout",
     "output_type": "stream",
     "text": [
      "+---------+\n",
      "|sum(Edad)|\n",
      "+---------+\n",
      "|     5339|\n",
      "+---------+\n",
      "\n"
     ]
    }
   ],
   "source": [
    "spark.sql(\"select sum(Edad) from users\").show()"
   ]
  },
  {
   "cell_type": "markdown",
   "id": "3e2a58a9-0cab-4987-b18b-e51325264783",
   "metadata": {},
   "source": [
    "# 12. Calcular la edad mínima y máxima de todas las personas."
   ]
  },
  {
   "cell_type": "code",
   "execution_count": 16,
   "id": "386c3ffe-19f1-4377-a93c-4721e13a3d30",
   "metadata": {},
   "outputs": [
    {
     "name": "stdout",
     "output_type": "stream",
     "text": [
      "+-----------+-----------+\n",
      "|edad_minima|edad_maxima|\n",
      "+-----------+-----------+\n",
      "|         10|         98|\n",
      "+-----------+-----------+\n",
      "\n"
     ]
    }
   ],
   "source": [
    "spark.sql(\"select min(Edad) as edad_minima, max(Edad) as edad_maxima from users\").show()"
   ]
  },
  {
   "cell_type": "markdown",
   "id": "8e714213-a68a-45cc-8434-a231bfa49f75",
   "metadata": {},
   "source": [
    "# 13. Filtrar personas cuya ciudad de residencia sea \"Chicago\" y edad sea menor de 30."
   ]
  },
  {
   "cell_type": "code",
   "execution_count": 17,
   "id": "e0b4b2d7-0ee7-4ba7-bb55-4ea4a39cdd2d",
   "metadata": {},
   "outputs": [
    {
     "name": "stdout",
     "output_type": "stream",
     "text": [
      "+----------+----+-------+--------------+\n",
      "|    Nombre|Edad| Ciudad|          Pais|\n",
      "+----------+----+-------+--------------+\n",
      "|   Timothy|  12|Chicago|Estados Unidos|\n",
      "|    Hayden|  13|Chicago|Estados Unidos|\n",
      "|  Humfried|  13|Chicago|Estados Unidos|\n",
      "|   Vanessa|  14|Chicago|Estados Unidos|\n",
      "|    Ashien|  17|Chicago|Estados Unidos|\n",
      "|Anestassia|  19|Chicago|Estados Unidos|\n",
      "|   Charlie|  22|Chicago|Estados Unidos|\n",
      "|   Cosetta|  27|Chicago|Estados Unidos|\n",
      "+----------+----+-------+--------------+\n",
      "\n"
     ]
    }
   ],
   "source": [
    "data.filter((data.Ciudad == \"Chicago\") & (data.Edad < 30)).show()"
   ]
  },
  {
   "cell_type": "markdown",
   "id": "64aa9248-47c2-4a7e-a257-faff951793f8",
   "metadata": {},
   "source": [
    "# 14. Agregar una nueva columna \"EdadDuplicada\" que contenga el doble de la edad."
   ]
  },
  {
   "cell_type": "code",
   "execution_count": 18,
   "id": "cf94f76d-a099-4ccc-89ef-3b0f9134e4c5",
   "metadata": {},
   "outputs": [
    {
     "name": "stdout",
     "output_type": "stream",
     "text": [
      "+----------+----+-----------+--------------+-------------+\n",
      "|    Nombre|Edad|     Ciudad|          Pais|EdadDuplicada|\n",
      "+----------+----+-----------+--------------+-------------+\n",
      "|   Charlie|  10|Los Angeles|Estados Unidos|           20|\n",
      "|     Morie|  10|Los Angeles|Estados Unidos|           20|\n",
      "|      Amie|  10|      Dixon|Estados Unidos|           20|\n",
      "|   Timothy|  12|    Chicago|Estados Unidos|           24|\n",
      "|    Hayden|  13|    Chicago|Estados Unidos|           26|\n",
      "|  Humfried|  13|    Chicago|Estados Unidos|           26|\n",
      "|     Nerte|  13|   New York|Estados Unidos|           26|\n",
      "|   Vanessa|  14|    Chicago|Estados Unidos|           28|\n",
      "|     Linus|  15|   New York|Estados Unidos|           30|\n",
      "|   Nickola|  15|      Dixon|Estados Unidos|           30|\n",
      "|   Ibrahim|  15|   New York|Estados Unidos|           30|\n",
      "|    Ashien|  17|    Chicago|Estados Unidos|           34|\n",
      "|      Saxe|  18|   Arrowood|Estados Unidos|           36|\n",
      "|   Charlie|  18|   New York|Estados Unidos|           36|\n",
      "|Anestassia|  19|    Chicago|Estados Unidos|           38|\n",
      "|   Vanessa|  21|   New York|Estados Unidos|           42|\n",
      "|     Katha|  22|     Nevada|Estados Unidos|           44|\n",
      "|   Charlie|  22|    Chicago|Estados Unidos|           44|\n",
      "|  Shirline|  23|    Lillian|Estados Unidos|           46|\n",
      "|  Tatiania|  24|   New York|Estados Unidos|           48|\n",
      "+----------+----+-----------+--------------+-------------+\n",
      "only showing top 20 rows\n",
      "\n"
     ]
    }
   ],
   "source": [
    "newdata = data.withColumn(\"EdadDuplicada\", data.Edad*2)\n",
    "newdata.show()"
   ]
  },
  {
   "cell_type": "markdown",
   "id": "54d21f2c-1830-4118-a5ca-ed4ada83fee3",
   "metadata": {},
   "source": [
    "# 15. Convertir todas las edades en años a meses."
   ]
  },
  {
   "cell_type": "code",
   "execution_count": 19,
   "id": "74bea669-245c-41a4-bb95-c7529832cabd",
   "metadata": {},
   "outputs": [
    {
     "name": "stdout",
     "output_type": "stream",
     "text": [
      "+----------+----+-----------+--------------+-------------+------------------+---------+\n",
      "|    Nombre|Edad|     Ciudad|          Pais|EdadDuplicada|EdadDuplicadaMeses|EdadMeses|\n",
      "+----------+----+-----------+--------------+-------------+------------------+---------+\n",
      "|     Morie|  10|Los Angeles|Estados Unidos|           20|               240|      120|\n",
      "|      Amie|  10|      Dixon|Estados Unidos|           20|               240|      120|\n",
      "|   Charlie|  10|Los Angeles|Estados Unidos|           20|               240|      120|\n",
      "|   Timothy|  12|    Chicago|Estados Unidos|           24|               288|      144|\n",
      "|  Humfried|  13|    Chicago|Estados Unidos|           26|               312|      156|\n",
      "|    Hayden|  13|    Chicago|Estados Unidos|           26|               312|      156|\n",
      "|     Nerte|  13|   New York|Estados Unidos|           26|               312|      156|\n",
      "|   Vanessa|  14|    Chicago|Estados Unidos|           28|               336|      168|\n",
      "|     Linus|  15|   New York|Estados Unidos|           30|               360|      180|\n",
      "|   Nickola|  15|      Dixon|Estados Unidos|           30|               360|      180|\n",
      "|   Ibrahim|  15|   New York|Estados Unidos|           30|               360|      180|\n",
      "|    Ashien|  17|    Chicago|Estados Unidos|           34|               408|      204|\n",
      "|   Charlie|  18|   New York|Estados Unidos|           36|               432|      216|\n",
      "|      Saxe|  18|   Arrowood|Estados Unidos|           36|               432|      216|\n",
      "|Anestassia|  19|    Chicago|Estados Unidos|           38|               456|      228|\n",
      "|   Vanessa|  21|   New York|Estados Unidos|           42|               504|      252|\n",
      "|   Charlie|  22|    Chicago|Estados Unidos|           44|               528|      264|\n",
      "|     Katha|  22|     Nevada|Estados Unidos|           44|               528|      264|\n",
      "|  Shirline|  23|    Lillian|Estados Unidos|           46|               552|      276|\n",
      "|  Tatiania|  24|   New York|Estados Unidos|           48|               576|      288|\n",
      "+----------+----+-----------+--------------+-------------+------------------+---------+\n",
      "only showing top 20 rows\n",
      "\n"
     ]
    }
   ],
   "source": [
    "newdatameses = newdata.withColumn(\"EdadDuplicadaMeses\", newdata.EdadDuplicada*12)\n",
    "newdatameses = newdatameses.withColumn(\"EdadMeses\", newdata.Edad*12)\n",
    "newdatameses.show()"
   ]
  },
  {
   "cell_type": "markdown",
   "id": "bc0b9ba8-82b5-4a46-8eef-e7d0c47815d2",
   "metadata": {},
   "source": [
    "# 16. Contar el número total de personas en el DataFrame."
   ]
  },
  {
   "cell_type": "code",
   "execution_count": 20,
   "id": "16568fba-5763-4a84-9d2c-2926a2db3365",
   "metadata": {},
   "outputs": [
    {
     "data": {
      "text/plain": [
       "103"
      ]
     },
     "execution_count": 20,
     "metadata": {},
     "output_type": "execute_result"
    }
   ],
   "source": [
    "data.rdd.count()"
   ]
  },
  {
   "cell_type": "markdown",
   "id": "d070ed0e-4458-41a6-bc79-53f936699f01",
   "metadata": {},
   "source": [
    "# 17. Filtrar personas cuya edad sea un número par."
   ]
  },
  {
   "cell_type": "code",
   "execution_count": 21,
   "id": "d4534041-c7d8-49ab-a5ea-808031fe94c9",
   "metadata": {},
   "outputs": [
    {
     "name": "stdout",
     "output_type": "stream",
     "text": [
      "+----------+----+-------------+--------------+\n",
      "|    Nombre|Edad|       Ciudad|          Pais|\n",
      "+----------+----+-------------+--------------+\n",
      "|   Charlie|  10|  Los Angeles|Estados Unidos|\n",
      "|     Morie|  10|  Los Angeles|Estados Unidos|\n",
      "|      Amie|  10|        Dixon|Estados Unidos|\n",
      "|   Timothy|  12|      Chicago|Estados Unidos|\n",
      "|   Vanessa|  14|      Chicago|Estados Unidos|\n",
      "|   Charlie|  18|     New York|Estados Unidos|\n",
      "|      Saxe|  18|     Arrowood|Estados Unidos|\n",
      "|     Katha|  22|       Nevada|Estados Unidos|\n",
      "|   Charlie|  22|      Chicago|Estados Unidos|\n",
      "|  Tatiania|  24|     New York|Estados Unidos|\n",
      "|   Charlie|  26|     New York|Estados Unidos|\n",
      "|   Charita|  28|      Springs|Estados Unidos|\n",
      "|       Bob|  30|  Los Angeles|Estados Unidos|\n",
      "|Anestassia|  30|     New York|Estados Unidos|\n",
      "|    Lainey|  30| Ronald Regan|Estados Unidos|\n",
      "|     Hasty|  36|     New York|Estados Unidos|\n",
      "|Willabella|  38|Weeping Birch|Estados Unidos|\n",
      "| Cristobal|  40|      Chicago|Estados Unidos|\n",
      "|     Vikky|  44|     New York|Estados Unidos|\n",
      "|       Ara|  44|     New York|Estados Unidos|\n",
      "|  Stephani|  46|        Dixon|Estados Unidos|\n",
      "|    Desiri|  50|        Dixon|Estados Unidos|\n",
      "|   Matilda|  50|  Los Angeles|Estados Unidos|\n",
      "|     Ringo|  52|     New York|Estados Unidos|\n",
      "|   Adolpho|  54|     New York|Estados Unidos|\n",
      "|   Kristal|  54|     New York|Estados Unidos|\n",
      "| Francesca|  54|        Dixon|Estados Unidos|\n",
      "|       Cos|  58|  Los Angeles|Estados Unidos|\n",
      "|       Bob|  60|        Chive|Estados Unidos|\n",
      "|      Peri|  60|        Dixon|Estados Unidos|\n",
      "|  Kathryne|  60|  Los Angeles|Estados Unidos|\n",
      "|   Vanessa|  60|      Chicago|Estados Unidos|\n",
      "|    Markus|  62|  Los Angeles|Estados Unidos|\n",
      "|   Sherman|  62|  Los Angeles|Estados Unidos|\n",
      "|   Agustin|  68|  Los Angeles|Estados Unidos|\n",
      "|   Lizbeth|  68|Weeping Birch|Estados Unidos|\n",
      "|    Kellen|  68|       Nevada|Estados Unidos|\n",
      "|    Lulita|  68|  Los Angeles|Estados Unidos|\n",
      "|   Charlie|  70|  Los Angeles|Estados Unidos|\n",
      "|  Kendrick|  70|      Chicago|Estados Unidos|\n",
      "|  Danyelle|  70|        Dixon|Estados Unidos|\n",
      "|   Vanessa|  70|       Algoma|Estados Unidos|\n",
      "|    Scotty|  72|     Wayridge|Estados Unidos|\n",
      "|      Edee|  72|     New York|Estados Unidos|\n",
      "|      Rena|  72|     New York|Estados Unidos|\n",
      "|    Dehlia|  74|        Dixon|Estados Unidos|\n",
      "|    Darryl|  74|  Los Angeles|Estados Unidos|\n",
      "| Francklyn|  76|     Westport|Estados Unidos|\n",
      "|     Tarra|  78|        Dixon|Estados Unidos|\n",
      "|     Avram|  90|      Chicago|Estados Unidos|\n",
      "|   Jillian|  90|      Chicago|Estados Unidos|\n",
      "|     Leroy|  92|      Chicago|Estados Unidos|\n",
      "|    Ashlee|  92|  Los Angeles|Estados Unidos|\n",
      "|       Bob|  94|  Los Angeles|Estados Unidos|\n",
      "|     Morie|  94|     New York|Estados Unidos|\n",
      "|   Vanessa|  94|  Los Angeles|Estados Unidos|\n",
      "|      Caro|  96|      Chicago|Estados Unidos|\n",
      "|   Sybille|  98|     New York|Estados Unidos|\n",
      "+----------+----+-------------+--------------+\n",
      "\n"
     ]
    }
   ],
   "source": [
    "data.filter((data.Edad % 2 == 0 )).show(60)"
   ]
  },
  {
   "cell_type": "markdown",
   "id": "726039da-8615-4783-b546-a8c38985085b",
   "metadata": {},
   "source": [
    "# 18. Calcular la cantidad de personas por rango de edades (0-20, 21-40, 41-60, 61+)."
   ]
  },
  {
   "cell_type": "code",
   "execution_count": 22,
   "id": "55b43a7b-1b19-46fc-8119-bad4adc5281a",
   "metadata": {},
   "outputs": [],
   "source": [
    "@udf(returnType=StringType()) \n",
    "def rango_edad(edad):\n",
    "    if (edad >0 and edad<=20):\n",
    "        return '0-20'\n",
    "    elif (edad >20 and edad<=40):\n",
    "        return '21-40'\n",
    "    elif (edad >40 and edad<=60):\n",
    "        return '41-60'\n",
    "    elif (edad>60):\n",
    "        return '61+'\n"
   ]
  },
  {
   "cell_type": "code",
   "execution_count": 23,
   "id": "8b47dcbb-5fcf-462e-9ff2-9497582b72fc",
   "metadata": {},
   "outputs": [
    {
     "name": "stdout",
     "output_type": "stream",
     "text": [
      "+----------+----+-------------+--------------+---------+\n",
      "|    Nombre|Edad|       Ciudad|          Pais|RangoEdad|\n",
      "+----------+----+-------------+--------------+---------+\n",
      "|     Morie|  10|  Los Angeles|Estados Unidos|     0-20|\n",
      "|      Amie|  10|        Dixon|Estados Unidos|     0-20|\n",
      "|   Charlie|  10|  Los Angeles|Estados Unidos|     0-20|\n",
      "|   Timothy|  12|      Chicago|Estados Unidos|     0-20|\n",
      "|  Humfried|  13|      Chicago|Estados Unidos|     0-20|\n",
      "|    Hayden|  13|      Chicago|Estados Unidos|     0-20|\n",
      "|     Nerte|  13|     New York|Estados Unidos|     0-20|\n",
      "|   Vanessa|  14|      Chicago|Estados Unidos|     0-20|\n",
      "|     Linus|  15|     New York|Estados Unidos|     0-20|\n",
      "|   Nickola|  15|        Dixon|Estados Unidos|     0-20|\n",
      "|   Ibrahim|  15|     New York|Estados Unidos|     0-20|\n",
      "|    Ashien|  17|      Chicago|Estados Unidos|     0-20|\n",
      "|   Charlie|  18|     New York|Estados Unidos|     0-20|\n",
      "|      Saxe|  18|     Arrowood|Estados Unidos|     0-20|\n",
      "|Anestassia|  19|      Chicago|Estados Unidos|     0-20|\n",
      "|   Vanessa|  21|     New York|Estados Unidos|    21-40|\n",
      "|   Charlie|  22|      Chicago|Estados Unidos|    21-40|\n",
      "|     Katha|  22|       Nevada|Estados Unidos|    21-40|\n",
      "|  Shirline|  23|      Lillian|Estados Unidos|    21-40|\n",
      "|  Tatiania|  24|     New York|Estados Unidos|    21-40|\n",
      "|     Alice|  25|     New York|Estados Unidos|    21-40|\n",
      "|    Hedvig|  25|     New York|Estados Unidos|    21-40|\n",
      "|   Charlie|  26|     New York|Estados Unidos|    21-40|\n",
      "|   Emelina|  27|     New York|Estados Unidos|    21-40|\n",
      "|   Cosetta|  27|      Chicago|Estados Unidos|    21-40|\n",
      "|   Charita|  28|      Springs|Estados Unidos|    21-40|\n",
      "|       Bob|  30|  Los Angeles|Estados Unidos|    21-40|\n",
      "|Anestassia|  30|     New York|Estados Unidos|    21-40|\n",
      "|    Lainey|  30| Ronald Regan|Estados Unidos|    21-40|\n",
      "|   Vanessa|  31|  Los Angeles|Estados Unidos|    21-40|\n",
      "|      Jenn|  31|  Los Angeles|Estados Unidos|    21-40|\n",
      "|       Dot|  33|      Chicago|Estados Unidos|    21-40|\n",
      "|    Shanie|  33|     New York|Estados Unidos|    21-40|\n",
      "|  Gabriela|  35|      Chicago|Estados Unidos|    21-40|\n",
      "|     Hasty|  36|     New York|Estados Unidos|    21-40|\n",
      "|   Gasparo|  37|  Los Angeles|Estados Unidos|    21-40|\n",
      "|Willabella|  38|Weeping Birch|Estados Unidos|    21-40|\n",
      "|     Rhett|  39|     New York|Estados Unidos|    21-40|\n",
      "|       Bob|  39|      Chicago|Estados Unidos|    21-40|\n",
      "|     Fawne|  39|      Chicago|Estados Unidos|    21-40|\n",
      "+----------+----+-------------+--------------+---------+\n",
      "only showing top 40 rows\n",
      "\n"
     ]
    }
   ],
   "source": [
    "data_age_range = data.withColumn(\"RangoEdad\", rango_edad(col(\"Edad\")))\n",
    "data_age_range.show(40)"
   ]
  },
  {
   "cell_type": "code",
   "execution_count": 24,
   "id": "bc36d8c9-06be-4f11-a211-731b786a2876",
   "metadata": {},
   "outputs": [
    {
     "name": "stdout",
     "output_type": "stream",
     "text": [
      "+---------+-----+\n",
      "|RangoEdad|count|\n",
      "+---------+-----+\n",
      "|      61+|   40|\n",
      "|    21-40|   26|\n",
      "|     0-20|   15|\n",
      "|    41-60|   22|\n",
      "+---------+-----+\n",
      "\n"
     ]
    }
   ],
   "source": [
    "data_age_range.groupBy(\"RangoEdad\").count().show()"
   ]
  },
  {
   "cell_type": "markdown",
   "id": "3ffa248f-3a22-4d31-b69a-9aa4d9fc564c",
   "metadata": {},
   "source": [
    "# 19. Contar cuántas personas tienen el mismo nombre."
   ]
  },
  {
   "cell_type": "code",
   "execution_count": 25,
   "id": "a77629bd-8c4e-4114-98c4-bcc49d114d3c",
   "metadata": {},
   "outputs": [
    {
     "name": "stdout",
     "output_type": "stream",
     "text": [
      "+----------+-----+\n",
      "|    Nombre|count|\n",
      "+----------+-----+\n",
      "|     Ringo|    1|\n",
      "|     Linus|    1|\n",
      "|   Charlie|    7|\n",
      "|     Morie|    2|\n",
      "|       Bob|    8|\n",
      "|     Alice|    1|\n",
      "|     Tarra|    1|\n",
      "|     Rhett|    1|\n",
      "|  Danyelle|    1|\n",
      "|    Hedvig|    1|\n",
      "|       Ara|    1|\n",
      "|       Cos|    1|\n",
      "|   Jillian|    1|\n",
      "|   Sybille|    1|\n",
      "|   Sherman|    1|\n",
      "|    Lulita|    1|\n",
      "|     Avram|    1|\n",
      "|       Dot|    1|\n",
      "|     Syman|    1|\n",
      "|   Vanessa|    9|\n",
      "|  Stephani|    1|\n",
      "|   Agustin|    1|\n",
      "|   Gasparo|    1|\n",
      "|     Leroy|    1|\n",
      "|     Katha|    1|\n",
      "|  Tatiania|    1|\n",
      "|    Elvina|    1|\n",
      "|    Desiri|    1|\n",
      "|      Livy|    1|\n",
      "|   Suzette|    1|\n",
      "|    Markus|    1|\n",
      "|   Adolpho|    1|\n",
      "|      Peri|    1|\n",
      "|    Keslie|    1|\n",
      "|    Shanie|    1|\n",
      "|    Philis|    1|\n",
      "|  Kendrick|    1|\n",
      "|Anestassia|    2|\n",
      "|    Ileana|    1|\n",
      "| Francklyn|    1|\n",
      "+----------+-----+\n",
      "only showing top 40 rows\n",
      "\n"
     ]
    }
   ],
   "source": [
    "data.groupBy(\"Nombre\").count().show(40)"
   ]
  },
  {
   "cell_type": "markdown",
   "id": "ae995bc5-35ff-450d-a8f0-b9764cf84d42",
   "metadata": {},
   "source": [
    "# 20. Concatenar las columnas \"Nombre\" y \"Ciudad\" en una nueva columna llamada \"InformacionPersonal\"."
   ]
  },
  {
   "cell_type": "code",
   "execution_count": 26,
   "id": "35a5dd09-9b3c-4d23-8119-a1cca0062dd9",
   "metadata": {},
   "outputs": [
    {
     "name": "stdout",
     "output_type": "stream",
     "text": [
      "+----------+----+-----------+--------------+--------------------+\n",
      "|    Nombre|Edad|     Ciudad|          Pais| InformacionPersonal|\n",
      "+----------+----+-----------+--------------+--------------------+\n",
      "|      Amie|  10|      Dixon|Estados Unidos|         Amie, Dixon|\n",
      "|   Charlie|  10|Los Angeles|Estados Unidos|Charlie, Los Angeles|\n",
      "|     Morie|  10|Los Angeles|Estados Unidos|  Morie, Los Angeles|\n",
      "|   Timothy|  12|    Chicago|Estados Unidos|    Timothy, Chicago|\n",
      "|    Hayden|  13|    Chicago|Estados Unidos|     Hayden, Chicago|\n",
      "|  Humfried|  13|    Chicago|Estados Unidos|   Humfried, Chicago|\n",
      "|     Nerte|  13|   New York|Estados Unidos|     Nerte, New York|\n",
      "|   Vanessa|  14|    Chicago|Estados Unidos|    Vanessa, Chicago|\n",
      "|     Linus|  15|   New York|Estados Unidos|     Linus, New York|\n",
      "|   Nickola|  15|      Dixon|Estados Unidos|      Nickola, Dixon|\n",
      "|   Ibrahim|  15|   New York|Estados Unidos|   Ibrahim, New York|\n",
      "|    Ashien|  17|    Chicago|Estados Unidos|     Ashien, Chicago|\n",
      "|      Saxe|  18|   Arrowood|Estados Unidos|      Saxe, Arrowood|\n",
      "|   Charlie|  18|   New York|Estados Unidos|   Charlie, New York|\n",
      "|Anestassia|  19|    Chicago|Estados Unidos| Anestassia, Chicago|\n",
      "|   Vanessa|  21|   New York|Estados Unidos|   Vanessa, New York|\n",
      "|   Charlie|  22|    Chicago|Estados Unidos|    Charlie, Chicago|\n",
      "|     Katha|  22|     Nevada|Estados Unidos|       Katha, Nevada|\n",
      "|  Shirline|  23|    Lillian|Estados Unidos|   Shirline, Lillian|\n",
      "|  Tatiania|  24|   New York|Estados Unidos|  Tatiania, New York|\n",
      "+----------+----+-----------+--------------+--------------------+\n",
      "only showing top 20 rows\n",
      "\n"
     ]
    }
   ],
   "source": [
    "data_final = data.withColumn('InformacionPersonal', \n",
    "                    concat(col('Nombre'),lit(', '), concat(col('Ciudad'))))\n",
    "data_final.show()"
   ]
  },
  {
   "cell_type": "code",
   "execution_count": null,
   "id": "ae11b22d-f933-4d97-a713-067f083e2c41",
   "metadata": {},
   "outputs": [],
   "source": []
  }
 ],
 "metadata": {
  "kernelspec": {
   "display_name": "Python 3 (ipykernel)",
   "language": "python",
   "name": "python3"
  },
  "language_info": {
   "codemirror_mode": {
    "name": "ipython",
    "version": 3
   },
   "file_extension": ".py",
   "mimetype": "text/x-python",
   "name": "python",
   "nbconvert_exporter": "python",
   "pygments_lexer": "ipython3",
   "version": "3.11.5"
  }
 },
 "nbformat": 4,
 "nbformat_minor": 5
}
